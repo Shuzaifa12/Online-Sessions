{
  "nbformat": 4,
  "nbformat_minor": 0,
  "metadata": {
    "colab": {
      "provenance": [],
      "authorship_tag": "ABX9TyNYQ/qxlKevR9tCNdG+k7za",
      "include_colab_link": true
    },
    "kernelspec": {
      "name": "python3",
      "display_name": "Python 3"
    },
    "language_info": {
      "name": "python"
    }
  },
  "cells": [
    {
      "cell_type": "markdown",
      "metadata": {
        "id": "view-in-github",
        "colab_type": "text"
      },
      "source": [
        "<a href=\"https://colab.research.google.com/github/Shuzaifa12/Online-Sessions/blob/main/OOPS_Session_02.ipynb\" target=\"_parent\"><img src=\"https://colab.research.google.com/assets/colab-badge.svg\" alt=\"Open In Colab\"/></a>"
      ]
    },
    {
      "cell_type": "code",
      "execution_count": null,
      "metadata": {
        "colab": {
          "base_uri": "https://localhost:8080/"
        },
        "id": "XLzwybAeHItN",
        "outputId": "d61b21ac-a12b-414c-eec8-ca97d8860779"
      },
      "outputs": [
        {
          "output_type": "stream",
          "name": "stdout",
          "text": [
            "School name : ABC School\n",
            "School Location : Karachi\n",
            "ABC\n",
            "XYZ\n"
          ]
        }
      ],
      "source": [
        "# creating student class:\n",
        "class Student:\n",
        "  name = \" ABC Student\"\n",
        "  # class attribute\n",
        "\n",
        "  # constructor:\n",
        "  # def __init__(self):\n",
        "  #   pass\n",
        "\n",
        "  def __init__(self, schoolname, loc):\n",
        "    self.school_name = schoolname      # object attributes\n",
        "    self.location = loc\n",
        "\n",
        "  # Creating a method:\n",
        "  def StudentInfo(self, F_name, L_name):\n",
        "    self.Firstname = F_name\n",
        "    self.Lastname = L_name\n",
        "\n",
        "# creating an object for class:\n",
        "Stu1 = Student(\"ABC School\", \"Karachi\")\n",
        "print(\"School name :\",Stu1.school_name)\n",
        "print(\"School Location :\",Stu1.location)\n",
        "\n",
        "Stu1.StudentInfo(\"ABC\", \"XYZ\")\n",
        "print(Stu1.Firstname)\n",
        "print(Stu1.Lastname)"
      ]
    },
    {
      "cell_type": "code",
      "source": [
        "# Creating a program for finding the area and circumference of a circle\n",
        "\n",
        "class Circle:\n",
        "  def __init__(self, r):\n",
        "    self.radius = r\n",
        "\n",
        "  def Area(self):\n",
        "    return 3.142 * self.radius ** 2\n",
        "\n",
        "  def Circumference(self):\n",
        "    return 2 * 3.142 * self.radius\n",
        "\n",
        "\n",
        "# object creation\n",
        "Cir = Circle(4)\n",
        "print(\"The radius of a circle is :\", Cir.radius)\n",
        "print(\"The area of a circle is :\",Cir.Area())\n",
        "print(\"The circumference of a circle is :\",Cir.Circumference())"
      ],
      "metadata": {
        "colab": {
          "base_uri": "https://localhost:8080/"
        },
        "id": "9pkVOKhdjRou",
        "outputId": "164cff2c-f6e2-4ba9-f018-091c9477eaaa"
      },
      "execution_count": 27,
      "outputs": [
        {
          "output_type": "stream",
          "name": "stdout",
          "text": [
            "The radius of a circle is : 4\n",
            "The area of a circle is : 50.272\n",
            "The circumference of a circle is : 25.136\n"
          ]
        }
      ]
    }
  ]
}