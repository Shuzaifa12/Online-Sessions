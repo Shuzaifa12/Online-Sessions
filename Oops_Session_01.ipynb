{
  "nbformat": 4,
  "nbformat_minor": 0,
  "metadata": {
    "colab": {
      "provenance": [],
      "authorship_tag": "ABX9TyMFrOnhtwUZ4DOm029KL00L",
      "include_colab_link": true
    },
    "kernelspec": {
      "name": "python3",
      "display_name": "Python 3"
    },
    "language_info": {
      "name": "python"
    }
  },
  "cells": [
    {
      "cell_type": "markdown",
      "metadata": {
        "id": "view-in-github",
        "colab_type": "text"
      },
      "source": [
        "<a href=\"https://colab.research.google.com/github/Shuzaifa12/Online-Sessions/blob/main/Oops_Session_01.ipynb\" target=\"_parent\"><img src=\"https://colab.research.google.com/assets/colab-badge.svg\" alt=\"Open In Colab\"/></a>"
      ]
    },
    {
      "cell_type": "code",
      "execution_count": 4,
      "metadata": {
        "colab": {
          "base_uri": "https://localhost:8080/"
        },
        "id": "J-aqsNMXuxXw",
        "outputId": "a7b4dc13-b5e0-4023-965e-a543343a03d7"
      },
      "outputs": [
        {
          "output_type": "stream",
          "name": "stdout",
          "text": [
            "Student name : Kaleem Bhai\n",
            "Student Address : karachi\n"
          ]
        }
      ],
      "source": [
        "# Object Oriented Programing Language\n",
        "# Program related to student (working with default parameter)\n",
        "# default constructor\n",
        "# name = \"xyz\"\n",
        "# This is a class named with Student.\n",
        "class Student():\n",
        "  # constructor\n",
        "  def __init__(self):\n",
        "    self.student_name = \"Kaleem Bhai\"\n",
        "    self.student_address = \"karachi\"\n",
        "\n",
        "# Creating an object:\n",
        "my_student = Student()\n",
        "\n",
        "# printing\n",
        "print(\"Student name :\",my_student.student_name)\n",
        "print(\"Student Address :\",my_student.student_address)"
      ]
    },
    {
      "cell_type": "code",
      "source": [
        "# OOPS using parameters and arguments:\n",
        "# parameterize constructor\n",
        "class Teacher():\n",
        "  # class attribute\n",
        "  college_name = \"XYZ College\"\n",
        "  # constructor\n",
        "  def __init__(self, Teacher_name, Teacher_subject):\n",
        "    self.teachername = Teacher_name\n",
        "    self.teachersub = Teacher_subject\n",
        "\n",
        "# Object\n",
        "school_teacher1 = Teacher(\"Kashif Bhai\",\"IT\")\n",
        "school_teacher2 = Teacher(\"Kaleem Bhai\",\"web development\")\n",
        "school_teacher3 = Teacher(\"Maam Asma\",\"Cloud computing\")\n",
        "\n",
        "# print\n",
        "print(school_teacher1.teachername)\n",
        "print(school_teacher1.teachersub)\n",
        "\n",
        "print(school_teacher2.teachername)\n",
        "print(school_teacher2.teachersub)\n",
        "\n",
        "print(school_teacher3.teachername)\n",
        "print(school_teacher3.teachersub)\n",
        "\n",
        "print(Teacher.college_name)"
      ],
      "metadata": {
        "colab": {
          "base_uri": "https://localhost:8080/"
        },
        "id": "DZgAZtFRy7-L",
        "outputId": "955dc708-3d40-4d63-9c79-ff434f9e690e"
      },
      "execution_count": 12,
      "outputs": [
        {
          "output_type": "stream",
          "name": "stdout",
          "text": [
            "Kashif Bhai\n",
            "IT\n",
            "Kaleem Bhai\n",
            "web development\n",
            "Maam Asma\n",
            "Cloud computing\n",
            "XYZ College\n"
          ]
        }
      ]
    },
    {
      "cell_type": "code",
      "source": [
        "# OOPS using parameters and arguments with the help of user input:\n",
        "# parameterize constructor\n",
        "class Teacher():\n",
        "  # constructor\n",
        "  def __init__(self, Teacher_name, Teacher_subject):\n",
        "    self.teachername = Teacher_name\n",
        "    self.teachersub = Teacher_subject\n",
        "\n",
        "name_of_teacher = input(\"Enter the name of the teacher : \")\n",
        "sub_of_teacher = input(\"Enter the subject : \")\n",
        "\n",
        "# object\n",
        "school_teacher = Teacher(name_of_teacher, sub_of_teacher)\n",
        "\n",
        "# print\n",
        "print(school_teacher.teachername)\n",
        "print(school_teacher.teachersub)\n"
      ],
      "metadata": {
        "colab": {
          "base_uri": "https://localhost:8080/"
        },
        "id": "CtykcSO-1IG7",
        "outputId": "a6331186-df1d-4de2-dd38-582b02beed1a"
      },
      "execution_count": 10,
      "outputs": [
        {
          "output_type": "stream",
          "name": "stdout",
          "text": [
            "Enter the name of the teacher : Kashif bhai\n",
            "Enter the subject : IT\n",
            "Kashif bhai\n",
            "IT\n"
          ]
        }
      ]
    }
  ]
}