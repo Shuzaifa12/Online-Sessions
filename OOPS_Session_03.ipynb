{
  "nbformat": 4,
  "nbformat_minor": 0,
  "metadata": {
    "colab": {
      "provenance": [],
      "authorship_tag": "ABX9TyMRrW8uexe8sZT2k6mIAaG7",
      "include_colab_link": true
    },
    "kernelspec": {
      "name": "python3",
      "display_name": "Python 3"
    },
    "language_info": {
      "name": "python"
    }
  },
  "cells": [
    {
      "cell_type": "markdown",
      "metadata": {
        "id": "view-in-github",
        "colab_type": "text"
      },
      "source": [
        "<a href=\"https://colab.research.google.com/github/Shuzaifa12/Online-Sessions/blob/main/OOPS_Session_03.ipynb\" target=\"_parent\"><img src=\"https://colab.research.google.com/assets/colab-badge.svg\" alt=\"Open In Colab\"/></a>"
      ]
    },
    {
      "cell_type": "code",
      "execution_count": 4,
      "metadata": {
        "colab": {
          "base_uri": "https://localhost:8080/"
        },
        "id": "Kctfuq0GjiKx",
        "outputId": "7c71a9e8-380d-4c71-be26-5d98abf4852f"
      },
      "outputs": [
        {
          "output_type": "stream",
          "name": "stdout",
          "text": [
            "Huzaifa\n",
            "12345\n",
            "xyz@gmail.com\n"
          ]
        }
      ],
      "source": [
        "class Student:\n",
        "  def __init__(self, name):\n",
        "    self.name = name\n",
        "\n",
        "  def C_Info(self, cell_no, email):\n",
        "    self.cell_no = cell_no\n",
        "    self.email = email\n",
        "\n",
        "# creating an object:\n",
        "Stu1 = Student(\"Huzaifa\")\n",
        "print(Stu1.name)\n",
        "Stu1.C_Info(12345, \"xyz@gmail.com\")\n",
        "print(Stu1.cell_no)\n",
        "print(Stu1.email)"
      ]
    },
    {
      "cell_type": "code",
      "source": [
        "# static method:\n",
        "\n",
        "class Employee:\n",
        "  def __init__(self, name):\n",
        "    self.name = name\n",
        "\n",
        "  # decorator\n",
        "  @staticmethod\n",
        "  def emp_des(designation):\n",
        "    return f\"The designation of an employee is : {designation}\"\n",
        "\n",
        "\n",
        "# object\n",
        "emp = Employee(\"HUZAIFA\")\n",
        "print(emp.name)\n",
        "e = emp.emp_des(\"Manager\")\n",
        "print(e)\n",
        "\n"
      ],
      "metadata": {
        "colab": {
          "base_uri": "https://localhost:8080/"
        },
        "id": "FarZHmRmlc7O",
        "outputId": "ab731f7f-e565-412e-efde-1db640cda7a3"
      },
      "execution_count": 7,
      "outputs": [
        {
          "output_type": "stream",
          "name": "stdout",
          "text": [
            "HUZAIFA\n",
            "The designation of an employee is : Manager\n"
          ]
        }
      ]
    },
    {
      "cell_type": "code",
      "source": [
        "# class method\n",
        "\n",
        "class Car:\n",
        "  carname = \"Fortuner\"    # class attribute\n",
        "\n",
        "  @classmethod\n",
        "  def updatename(cls, name):\n",
        "    cls.carname = name\n",
        "\n",
        "\n",
        "# object:\n",
        "C1 = Car()\n",
        "print(C1.carname)\n",
        "C1.updatename(\"Toyotta\")\n",
        "print(C1.carname)"
      ],
      "metadata": {
        "colab": {
          "base_uri": "https://localhost:8080/"
        },
        "id": "ajBxhWXRnyLK",
        "outputId": "2c5c7b9e-c180-4596-a5c5-8b69e1556af8"
      },
      "execution_count": 11,
      "outputs": [
        {
          "output_type": "stream",
          "name": "stdout",
          "text": [
            "Fortuner\n",
            "Toyotta\n"
          ]
        }
      ]
    },
    {
      "cell_type": "code",
      "source": [
        "# Property Method:\n",
        "\n",
        "class Candidates:\n",
        "  def __init__(self, phy, chem, maths):\n",
        "    self.phy = phy\n",
        "    self.chem = chem\n",
        "    self.maths = maths\n",
        "\n",
        "\n",
        "  @property\n",
        "  def average(self):\n",
        "    return f\"The average of 3 subjects is : {(self.phy + self.maths + self.chem)/3}\"\n",
        "\n",
        "# creating an object:\n",
        "Cand1 = Candidates(68,90,71)\n",
        "print(\"The marks of physics is : \",Cand1.phy)\n",
        "print(\"The marks of chemistry is : \",Cand1.chem)\n",
        "print(\"The marks of maths is : \",Cand1.maths)\n",
        "\n",
        "Cand1.average\n"
      ],
      "metadata": {
        "colab": {
          "base_uri": "https://localhost:8080/",
          "height": 90
        },
        "id": "BbUmy8kApq5y",
        "outputId": "fc2ba5c6-a4f1-4e9f-9881-ed2704e420a7"
      },
      "execution_count": 18,
      "outputs": [
        {
          "output_type": "stream",
          "name": "stdout",
          "text": [
            "The marks of physics is :  68\n",
            "The marks of chemistry is :  90\n",
            "The marks of maths is :  71\n"
          ]
        },
        {
          "output_type": "execute_result",
          "data": {
            "text/plain": [
              "'The average of 3 subjects is : 76.33333333333333'"
            ],
            "application/vnd.google.colaboratory.intrinsic+json": {
              "type": "string"
            }
          },
          "metadata": {},
          "execution_count": 18
        }
      ]
    },
    {
      "cell_type": "code",
      "source": [
        "# Destructor:\n",
        "# del keyword\n",
        "\n",
        "class Inventory:\n",
        "  def __init__(self, product):\n",
        "    self.product = product\n",
        "\n",
        "# creating object:\n",
        "Inv = Inventory(\"Cycle\")\n",
        "print(Inv.product)\n",
        "\n",
        "# del Inventory\n",
        "# Inv = Inventory(\"Cycle\")\n",
        "# print(Inv.product)\n"
      ],
      "metadata": {
        "colab": {
          "base_uri": "https://localhost:8080/"
        },
        "id": "3TjTkHPWsign",
        "outputId": "c5f54f5d-5a0d-40f5-dc86-5d07ceec806b"
      },
      "execution_count": 22,
      "outputs": [
        {
          "output_type": "stream",
          "name": "stdout",
          "text": [
            "Cycle\n"
          ]
        }
      ]
    },
    {
      "cell_type": "code",
      "source": [
        "# protected method:\n",
        "\n",
        "# use single underscore before attribute/ variable:\n",
        "# _carkey\n",
        "\n",
        "# private\n",
        "# use double underscore before attribute/ variable:\n",
        "# __carkey\n",
        "\n",
        "# name Mangling"
      ],
      "metadata": {
        "id": "M2-6G1p6uro2"
      },
      "execution_count": null,
      "outputs": []
    }
  ]
}